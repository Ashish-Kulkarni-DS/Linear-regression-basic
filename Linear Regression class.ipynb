{
 "cells": [
  {
   "cell_type": "code",
   "execution_count": 1,
   "metadata": {},
   "outputs": [],
   "source": [
    "# Linear regression\n",
    "# It is a Supervised machine learning technique(prediction and data can be divided in train and test)\n",
    "# Compulsary condition (target variable should the numeric and continuous)\n",
    "# x variable (categorical or continuous)\n",
    "\n",
    "# assumptions:\n",
    "# 1. There should be linear relationship between the independent and the dependent variable.\n",
    "# 2. Error terms are normally distributed and there is no pattern among them.\n",
    "# 3. Minimal multi-collinearity among X-variables\n",
    "# 4. Homoscedascticity: Variance around the regression line is same for all the predicted values."
   ]
  },
  {
   "cell_type": "code",
   "execution_count": 62,
   "metadata": {},
   "outputs": [],
   "source": [
    "import pandas as pd\n",
    "import sklearn\n",
    "import matplotlib.pyplot as plt\n",
    "import numpy as np\n",
    "import seaborn as sns"
   ]
  },
  {
   "cell_type": "code",
   "execution_count": 3,
   "metadata": {},
   "outputs": [],
   "source": [
    "lc = pd.read_csv(r\"C:\\Users\\Ashish Kulkarni\\Desktop\\Data Science\\Python\\Programs\\Linear Regression\\LungCapData.csv\")"
   ]
  },
  {
   "cell_type": "code",
   "execution_count": 4,
   "metadata": {
    "scrolled": true
   },
   "outputs": [
    {
     "data": {
      "text/html": [
       "<div>\n",
       "<style scoped>\n",
       "    .dataframe tbody tr th:only-of-type {\n",
       "        vertical-align: middle;\n",
       "    }\n",
       "\n",
       "    .dataframe tbody tr th {\n",
       "        vertical-align: top;\n",
       "    }\n",
       "\n",
       "    .dataframe thead th {\n",
       "        text-align: right;\n",
       "    }\n",
       "</style>\n",
       "<table border=\"1\" class=\"dataframe\">\n",
       "  <thead>\n",
       "    <tr style=\"text-align: right;\">\n",
       "      <th></th>\n",
       "      <th>LungCap</th>\n",
       "      <th>Age</th>\n",
       "      <th>Height</th>\n",
       "      <th>Smoke</th>\n",
       "      <th>Gender</th>\n",
       "      <th>Caesarean</th>\n",
       "    </tr>\n",
       "  </thead>\n",
       "  <tbody>\n",
       "    <tr>\n",
       "      <th>0</th>\n",
       "      <td>6.475</td>\n",
       "      <td>6</td>\n",
       "      <td>62.1</td>\n",
       "      <td>no</td>\n",
       "      <td>male</td>\n",
       "      <td>no</td>\n",
       "    </tr>\n",
       "    <tr>\n",
       "      <th>1</th>\n",
       "      <td>10.125</td>\n",
       "      <td>18</td>\n",
       "      <td>74.7</td>\n",
       "      <td>yes</td>\n",
       "      <td>female</td>\n",
       "      <td>no</td>\n",
       "    </tr>\n",
       "    <tr>\n",
       "      <th>2</th>\n",
       "      <td>9.550</td>\n",
       "      <td>16</td>\n",
       "      <td>69.7</td>\n",
       "      <td>no</td>\n",
       "      <td>female</td>\n",
       "      <td>yes</td>\n",
       "    </tr>\n",
       "    <tr>\n",
       "      <th>3</th>\n",
       "      <td>11.125</td>\n",
       "      <td>14</td>\n",
       "      <td>71.0</td>\n",
       "      <td>no</td>\n",
       "      <td>male</td>\n",
       "      <td>no</td>\n",
       "    </tr>\n",
       "    <tr>\n",
       "      <th>4</th>\n",
       "      <td>4.800</td>\n",
       "      <td>5</td>\n",
       "      <td>56.9</td>\n",
       "      <td>no</td>\n",
       "      <td>male</td>\n",
       "      <td>no</td>\n",
       "    </tr>\n",
       "  </tbody>\n",
       "</table>\n",
       "</div>"
      ],
      "text/plain": [
       "   LungCap  Age  Height Smoke  Gender Caesarean\n",
       "0    6.475    6    62.1    no    male        no\n",
       "1   10.125   18    74.7   yes  female        no\n",
       "2    9.550   16    69.7    no  female       yes\n",
       "3   11.125   14    71.0    no    male        no\n",
       "4    4.800    5    56.9    no    male        no"
      ]
     },
     "execution_count": 4,
     "metadata": {},
     "output_type": "execute_result"
    }
   ],
   "source": [
    "lc.head()"
   ]
  },
  {
   "cell_type": "code",
   "execution_count": 5,
   "metadata": {},
   "outputs": [
    {
     "data": {
      "text/plain": [
       "(725, 6)"
      ]
     },
     "execution_count": 5,
     "metadata": {},
     "output_type": "execute_result"
    }
   ],
   "source": [
    "lc.shape"
   ]
  },
  {
   "cell_type": "code",
   "execution_count": 6,
   "metadata": {},
   "outputs": [],
   "source": [
    "# What are steps involved in model building? (any model building)\n",
    "# 1. Identify the problem statement / Requirement\n",
    "# 2. Gather / collect the data\n",
    "# 3. Data cleaning / data preparation\n",
    "# 4. If required to do data exploratory analysis (try to build some graphs)\n",
    "# 5. For predictive modeling (divide the data in train and test)\n",
    "# 6. Build the model (train the model)\n",
    "# 7. Test the model (use the evaluation matrices to check how the model is behaving)\n",
    "# 8. To improve the model, start everything from step 2 or step 3"
   ]
  },
  {
   "cell_type": "code",
   "execution_count": 7,
   "metadata": {},
   "outputs": [
    {
     "data": {
      "text/plain": [
       "LungCap      0\n",
       "Age          0\n",
       "Height       0\n",
       "Smoke        0\n",
       "Gender       0\n",
       "Caesarean    0\n",
       "dtype: int64"
      ]
     },
     "execution_count": 7,
     "metadata": {},
     "output_type": "execute_result"
    }
   ],
   "source": [
    "lc.isnull().sum() # none of the column have the null values"
   ]
  },
  {
   "cell_type": "code",
   "execution_count": 8,
   "metadata": {},
   "outputs": [],
   "source": [
    "lc.Gender.replace({\"male\":1, \"female\":0}, inplace = True)\n",
    "lc.Smoke.replace({\"no\":0, \"yes\":1}, inplace = True)\n",
    "lc.Caesarean.replace({\"no\":0, \"yes\":1}, inplace = True)"
   ]
  },
  {
   "cell_type": "code",
   "execution_count": 9,
   "metadata": {
    "scrolled": true
   },
   "outputs": [
    {
     "data": {
      "text/html": [
       "<div>\n",
       "<style scoped>\n",
       "    .dataframe tbody tr th:only-of-type {\n",
       "        vertical-align: middle;\n",
       "    }\n",
       "\n",
       "    .dataframe tbody tr th {\n",
       "        vertical-align: top;\n",
       "    }\n",
       "\n",
       "    .dataframe thead th {\n",
       "        text-align: right;\n",
       "    }\n",
       "</style>\n",
       "<table border=\"1\" class=\"dataframe\">\n",
       "  <thead>\n",
       "    <tr style=\"text-align: right;\">\n",
       "      <th></th>\n",
       "      <th>LungCap</th>\n",
       "      <th>Age</th>\n",
       "      <th>Height</th>\n",
       "      <th>Smoke</th>\n",
       "      <th>Gender</th>\n",
       "      <th>Caesarean</th>\n",
       "    </tr>\n",
       "  </thead>\n",
       "  <tbody>\n",
       "    <tr>\n",
       "      <th>0</th>\n",
       "      <td>6.475</td>\n",
       "      <td>6</td>\n",
       "      <td>62.1</td>\n",
       "      <td>0</td>\n",
       "      <td>1</td>\n",
       "      <td>0</td>\n",
       "    </tr>\n",
       "    <tr>\n",
       "      <th>1</th>\n",
       "      <td>10.125</td>\n",
       "      <td>18</td>\n",
       "      <td>74.7</td>\n",
       "      <td>1</td>\n",
       "      <td>0</td>\n",
       "      <td>0</td>\n",
       "    </tr>\n",
       "    <tr>\n",
       "      <th>2</th>\n",
       "      <td>9.550</td>\n",
       "      <td>16</td>\n",
       "      <td>69.7</td>\n",
       "      <td>0</td>\n",
       "      <td>0</td>\n",
       "      <td>1</td>\n",
       "    </tr>\n",
       "    <tr>\n",
       "      <th>3</th>\n",
       "      <td>11.125</td>\n",
       "      <td>14</td>\n",
       "      <td>71.0</td>\n",
       "      <td>0</td>\n",
       "      <td>1</td>\n",
       "      <td>0</td>\n",
       "    </tr>\n",
       "    <tr>\n",
       "      <th>4</th>\n",
       "      <td>4.800</td>\n",
       "      <td>5</td>\n",
       "      <td>56.9</td>\n",
       "      <td>0</td>\n",
       "      <td>1</td>\n",
       "      <td>0</td>\n",
       "    </tr>\n",
       "    <tr>\n",
       "      <th>5</th>\n",
       "      <td>6.225</td>\n",
       "      <td>11</td>\n",
       "      <td>58.7</td>\n",
       "      <td>0</td>\n",
       "      <td>0</td>\n",
       "      <td>0</td>\n",
       "    </tr>\n",
       "    <tr>\n",
       "      <th>6</th>\n",
       "      <td>4.950</td>\n",
       "      <td>8</td>\n",
       "      <td>63.3</td>\n",
       "      <td>0</td>\n",
       "      <td>1</td>\n",
       "      <td>1</td>\n",
       "    </tr>\n",
       "    <tr>\n",
       "      <th>7</th>\n",
       "      <td>7.325</td>\n",
       "      <td>11</td>\n",
       "      <td>70.4</td>\n",
       "      <td>0</td>\n",
       "      <td>1</td>\n",
       "      <td>0</td>\n",
       "    </tr>\n",
       "    <tr>\n",
       "      <th>8</th>\n",
       "      <td>8.875</td>\n",
       "      <td>15</td>\n",
       "      <td>70.5</td>\n",
       "      <td>0</td>\n",
       "      <td>1</td>\n",
       "      <td>0</td>\n",
       "    </tr>\n",
       "    <tr>\n",
       "      <th>9</th>\n",
       "      <td>6.800</td>\n",
       "      <td>11</td>\n",
       "      <td>59.2</td>\n",
       "      <td>0</td>\n",
       "      <td>1</td>\n",
       "      <td>0</td>\n",
       "    </tr>\n",
       "  </tbody>\n",
       "</table>\n",
       "</div>"
      ],
      "text/plain": [
       "   LungCap  Age  Height  Smoke  Gender  Caesarean\n",
       "0    6.475    6    62.1      0       1          0\n",
       "1   10.125   18    74.7      1       0          0\n",
       "2    9.550   16    69.7      0       0          1\n",
       "3   11.125   14    71.0      0       1          0\n",
       "4    4.800    5    56.9      0       1          0\n",
       "5    6.225   11    58.7      0       0          0\n",
       "6    4.950    8    63.3      0       1          1\n",
       "7    7.325   11    70.4      0       1          0\n",
       "8    8.875   15    70.5      0       1          0\n",
       "9    6.800   11    59.2      0       1          0"
      ]
     },
     "execution_count": 9,
     "metadata": {},
     "output_type": "execute_result"
    }
   ],
   "source": [
    "lc.head(10)"
   ]
  },
  {
   "cell_type": "code",
   "execution_count": 10,
   "metadata": {},
   "outputs": [],
   "source": [
    "# sampling\n",
    "from sklearn.model_selection import train_test_split"
   ]
  },
  {
   "cell_type": "code",
   "execution_count": 11,
   "metadata": {},
   "outputs": [],
   "source": [
    "lc_x = lc.iloc[ : , 1 : ]\n",
    "lc_y = lc.iloc[ : , 0 ]"
   ]
  },
  {
   "cell_type": "code",
   "execution_count": 12,
   "metadata": {},
   "outputs": [],
   "source": [
    "lc_x_train, lc_x_test, lc_y_train, lc_y_test = train_test_split(lc_x, lc_y, test_size = .2, random_state = 555)"
   ]
  },
  {
   "cell_type": "code",
   "execution_count": 13,
   "metadata": {},
   "outputs": [],
   "source": [
    "# Linear regression\n",
    "# do the neccessary import from sklearn\n",
    "# create a object or run it for first time\n",
    "# use the fit(x,y) method to build the model\n",
    "# use predict(x)"
   ]
  },
  {
   "cell_type": "code",
   "execution_count": 14,
   "metadata": {},
   "outputs": [],
   "source": [
    "from sklearn.linear_model import LinearRegression\n",
    "reg = LinearRegression()"
   ]
  },
  {
   "cell_type": "code",
   "execution_count": 15,
   "metadata": {},
   "outputs": [
    {
     "data": {
      "text/plain": [
       "LinearRegression(copy_X=True, fit_intercept=True, n_jobs=None, normalize=False)"
      ]
     },
     "execution_count": 15,
     "metadata": {},
     "output_type": "execute_result"
    }
   ],
   "source": [
    "reg.fit(lc_x_train,lc_y_train) # model has been built"
   ]
  },
  {
   "cell_type": "code",
   "execution_count": 16,
   "metadata": {},
   "outputs": [
    {
     "name": "stdout",
     "output_type": "stream",
     "text": [
      "[ 6.75140175  9.44831511  4.60809003  8.47045645  5.41316848 10.56973735\n",
      "  9.80868973  7.01847145  6.36564973  8.45071166  6.82387051  6.29318098\n",
      "  5.1700648  10.94022063 10.67694122 10.08100269  6.52666894  5.62751421\n",
      "  7.58629206  6.9501546   9.91621361  5.11241758  9.21870063  8.58290359\n",
      " 10.38727942  6.08781094 10.31826054  9.17085833  6.31581467  7.18364256\n",
      "  5.66601921  8.92490734  6.86445145  9.07125623 11.01926498  8.92145747\n",
      " 13.33911946 10.75602717  7.60924576 11.74525748  9.03204921  5.29979876\n",
      "  8.81108628 10.41993859  9.69109878  5.81870688 10.12710947 10.17638356\n",
      "  7.91477887  6.43893144  7.02892054  3.78502273  6.4527268  10.1128905\n",
      "  9.23084365  6.62134778  6.45135287 10.13925249  8.62447645  7.90925304\n",
      " 12.35158309  4.85749089  3.7808015   9.31995507  6.71327876  8.79894326\n",
      "  5.55504546  3.37667861 11.71681955  9.21662469  4.13357434  8.46285468\n",
      " 10.34462252  6.81834468  8.50343563  4.82451172  5.64835037 12.41300019\n",
      "  7.92554796  7.76534171  9.21313321  9.13654682  8.99354421  1.90910072\n",
      "  3.77872555 10.877388    9.6647368   7.65323499 11.69115959  6.93801158\n",
      "  5.92411322  8.48052352  6.54437937  4.39719417 10.47266255  4.55536606\n",
      "  4.46036721  6.80965154  8.4683805  10.81252102  9.29566904  9.76815037\n",
      "  4.45199408  8.13612381 11.63258979  3.39959072 11.3748158   4.4256321\n",
      "  5.99904727  5.37258753 13.02277567  8.76497951 10.20071119  7.46454921\n",
      "  9.12573614  9.83920361  7.2172243   3.95041439  2.08149158  6.99418542\n",
      "  8.01677692  7.71092381  4.22026206  9.77855786  9.45591688  4.82243577\n",
      " 10.10736468  7.02892054  9.53500283 11.57498417  7.73232094  9.87567425\n",
      "  7.44895632  4.34999603 10.2710624   7.9432168   3.07909503  4.41141313\n",
      "  8.79341744  9.82153476  7.98833899  6.86237551 10.12710947  5.70107434\n",
      " 10.95647395]\n"
     ]
    }
   ],
   "source": [
    "pred_value = reg.predict(lc_x_test)\n",
    "print(pred_value)"
   ]
  },
  {
   "cell_type": "code",
   "execution_count": 17,
   "metadata": {},
   "outputs": [
    {
     "data": {
      "text/plain": [
       "-11.438053663399014"
      ]
     },
     "execution_count": 17,
     "metadata": {},
     "output_type": "execute_result"
    }
   ],
   "source": [
    "reg.intercept_ # intercept (B0)"
   ]
  },
  {
   "cell_type": "code",
   "execution_count": 18,
   "metadata": {},
   "outputs": [
    {
     "data": {
      "text/plain": [
       "array([ 0.17031491,  0.26361983, -0.56570306,  0.41102263, -0.22680876])"
      ]
     },
     "execution_count": 18,
     "metadata": {},
     "output_type": "execute_result"
    }
   ],
   "source": [
    "reg.coef_"
   ]
  },
  {
   "cell_type": "code",
   "execution_count": 19,
   "metadata": {},
   "outputs": [],
   "source": [
    "# LungCap = Bo + B1Age + B2Height + B3Smoke + B4Gender + B5Caesarean"
   ]
  },
  {
   "cell_type": "code",
   "execution_count": 20,
   "metadata": {},
   "outputs": [
    {
     "data": {
      "text/plain": [
       "0.8608324228896035"
      ]
     },
     "execution_count": 20,
     "metadata": {},
     "output_type": "execute_result"
    }
   ],
   "source": [
    "reg.score(lc_x_train, lc_y_train) # this is the R square value"
   ]
  },
  {
   "cell_type": "code",
   "execution_count": 21,
   "metadata": {},
   "outputs": [],
   "source": [
    "# adjusted R square\n",
    "# 1 - (1-Rsq)*(N-1) / (N-K-1)\n",
    "# K = 5\n",
    "# K corresponds to number of x variables\n",
    "# N = 580\n",
    "# N is number of observations in train"
   ]
  },
  {
   "cell_type": "code",
   "execution_count": 22,
   "metadata": {},
   "outputs": [
    {
     "data": {
      "text/plain": [
       "(580, 5)"
      ]
     },
     "execution_count": 22,
     "metadata": {},
     "output_type": "execute_result"
    }
   ],
   "source": [
    "lc_x_train.shape"
   ]
  },
  {
   "cell_type": "code",
   "execution_count": 23,
   "metadata": {},
   "outputs": [
    {
     "name": "stdout",
     "output_type": "stream",
     "text": [
      "Rsquare value is  0.8608324228896035\n",
      "Adj R square value is  0.8596201617649485\n"
     ]
    }
   ],
   "source": [
    "K = 5\n",
    "N = 580\n",
    "Rsq = reg.score(lc_x_train, lc_y_train)\n",
    "Adj_Rsquare = 1 - (1-Rsq)*(N-1) / (N-K-1)\n",
    "print(\"Rsquare value is \", Rsq)\n",
    "print(\"Adj R square value is \", Adj_Rsquare)"
   ]
  },
  {
   "cell_type": "code",
   "execution_count": 24,
   "metadata": {},
   "outputs": [],
   "source": [
    "# property is that it will always pass through mean x"
   ]
  },
  {
   "cell_type": "code",
   "execution_count": 25,
   "metadata": {},
   "outputs": [],
   "source": [
    "# MSE\n",
    "error = lc_y_test - pred_value\n",
    "sq_err = error * error"
   ]
  },
  {
   "cell_type": "code",
   "execution_count": 26,
   "metadata": {},
   "outputs": [
    {
     "data": {
      "text/plain": [
       "1.091331758087304"
      ]
     },
     "execution_count": 26,
     "metadata": {},
     "output_type": "execute_result"
    }
   ],
   "source": [
    "MSE = np.mean(sq_err)\n",
    "MSE"
   ]
  },
  {
   "cell_type": "code",
   "execution_count": 27,
   "metadata": {},
   "outputs": [
    {
     "data": {
      "text/plain": [
       "1.0446682526464102"
      ]
     },
     "execution_count": 27,
     "metadata": {},
     "output_type": "execute_result"
    }
   ],
   "source": [
    "# RMSE = take the square root of MSE\n",
    "RMSE = np.sqrt(MSE)\n",
    "RMSE"
   ]
  },
  {
   "cell_type": "code",
   "execution_count": 28,
   "metadata": {},
   "outputs": [
    {
     "data": {
      "text/plain": [
       "0.8483033569397176"
      ]
     },
     "execution_count": 28,
     "metadata": {},
     "output_type": "execute_result"
    }
   ],
   "source": [
    "# MAE\n",
    "# Error --> Absolute --> Mean\n",
    "abs_err = np.absolute(error)\n",
    "MAE = np.mean(abs_err)\n",
    "MAE"
   ]
  },
  {
   "cell_type": "code",
   "execution_count": 29,
   "metadata": {},
   "outputs": [
    {
     "data": {
      "text/plain": [
       "12.421625073810697"
      ]
     },
     "execution_count": 29,
     "metadata": {},
     "output_type": "execute_result"
    }
   ],
   "source": [
    "# MAPE = mean absolute percentage arror\n",
    "# Error --> Percentage --> Absolute -- > Mean\n",
    "MAPE = np.mean((abs_err/lc_y_test) *100)\n",
    "MAPE"
   ]
  },
  {
   "cell_type": "code",
   "execution_count": 30,
   "metadata": {},
   "outputs": [],
   "source": [
    "# SSE and SSR :- we find it on train data and not on test data"
   ]
  },
  {
   "cell_type": "code",
   "execution_count": 31,
   "metadata": {},
   "outputs": [],
   "source": [
    "# lets do the prediction on the train data\n",
    "pred_train = reg.predict(lc_x_train)"
   ]
  },
  {
   "cell_type": "code",
   "execution_count": 32,
   "metadata": {},
   "outputs": [],
   "source": [
    "error_train = lc_y_train - pred_train"
   ]
  },
  {
   "cell_type": "code",
   "execution_count": 33,
   "metadata": {},
   "outputs": [
    {
     "data": {
      "text/plain": [
       "1.4371645636009785e-15"
      ]
     },
     "execution_count": 33,
     "metadata": {},
     "output_type": "execute_result"
    }
   ],
   "source": [
    "np.mean(error_train) # Can I say this as ZERO"
   ]
  },
  {
   "cell_type": "code",
   "execution_count": 34,
   "metadata": {},
   "outputs": [
    {
     "data": {
      "text/plain": [
       "(array([  1.,   7.,  34.,  77., 107., 138., 115.,  69.,  26.,   6.]),\n",
       " array([-3.3181389 , -2.70919649, -2.10025408, -1.49131166, -0.88236925,\n",
       "        -0.27342683,  0.33551558,  0.944458  ,  1.55340041,  2.16234283,\n",
       "         2.77128524]),\n",
       " <a list of 10 Patch objects>)"
      ]
     },
     "execution_count": 34,
     "metadata": {},
     "output_type": "execute_result"
    },
    {
     "data": {
      "image/png": "[encoded data removed]",
      "text/plain": [
       "<Figure size 432x288 with 1 Axes>"
      ]
     },
     "metadata": {
      "needs_background": "light"
     },
     "output_type": "display_data"
    }
   ],
   "source": [
    "plt.hist(error_train)"
   ]
  },
  {
   "cell_type": "code",
   "execution_count": 35,
   "metadata": {},
   "outputs": [
    {
     "data": {
      "text/plain": [
       "<matplotlib.axes._subplots.AxesSubplot at 0x22ba1373388>"
      ]
     },
     "execution_count": 35,
     "metadata": {},
     "output_type": "execute_result"
    },
    {
     "data": {
      "image/png": "[encoded data removed]",
      "text/plain": [
       "<Figure size 432x288 with 1 Axes>"
      ]
     },
     "metadata": {
      "needs_background": "light"
     },
     "output_type": "display_data"
    }
   ],
   "source": [
    "sns.distplot(error_train)"
   ]
  },
  {
   "cell_type": "code",
   "execution_count": 36,
   "metadata": {},
   "outputs": [],
   "source": [
    "# skewness and kurtosis\n",
    "from scipy.stats import kurtosis\n",
    "from scipy.stats import skew"
   ]
  },
  {
   "cell_type": "code",
   "execution_count": 37,
   "metadata": {},
   "outputs": [
    {
     "data": {
      "text/plain": [
       "-0.058291834174145844"
      ]
     },
     "execution_count": 37,
     "metadata": {},
     "output_type": "execute_result"
    }
   ],
   "source": [
    "skew(error_train) # its close to zero"
   ]
  },
  {
   "cell_type": "code",
   "execution_count": 38,
   "metadata": {},
   "outputs": [
    {
     "data": {
      "text/plain": [
       "-0.28220182065672095"
      ]
     },
     "execution_count": 38,
     "metadata": {},
     "output_type": "execute_result"
    }
   ],
   "source": [
    "kurtosis(error_train) # close to 3"
   ]
  },
  {
   "cell_type": "code",
   "execution_count": 39,
   "metadata": {},
   "outputs": [
    {
     "data": {
      "text/plain": [
       "2.7894050704098157"
      ]
     },
     "execution_count": 39,
     "metadata": {},
     "output_type": "execute_result"
    }
   ],
   "source": [
    "# in software k = 3 is equal to zero\n",
    "3-0.21059492959018433"
   ]
  },
  {
   "cell_type": "code",
   "execution_count": 40,
   "metadata": {},
   "outputs": [],
   "source": [
    "# that is why the kurtosis which we have found is close to 3"
   ]
  },
  {
   "cell_type": "code",
   "execution_count": 41,
   "metadata": {},
   "outputs": [],
   "source": [
    "# creating new model and removing Caesarean column\n",
    "lc_x = lc.iloc[ : , 1 : 5 ]\n",
    "lc_y = lc.iloc[ : , 0 ]\n",
    "# to remove a particular column\n",
    "# lc_x3=lc.drop([\"Gender\"], axis = 1)\n",
    "# another way is\n",
    "# lc.iloc[:, lc.columns != 'Age']"
   ]
  },
  {
   "cell_type": "code",
   "execution_count": 42,
   "metadata": {},
   "outputs": [
    {
     "data": {
      "text/html": [
       "<div>\n",
       "<style scoped>\n",
       "    .dataframe tbody tr th:only-of-type {\n",
       "        vertical-align: middle;\n",
       "    }\n",
       "\n",
       "    .dataframe tbody tr th {\n",
       "        vertical-align: top;\n",
       "    }\n",
       "\n",
       "    .dataframe thead th {\n",
       "        text-align: right;\n",
       "    }\n",
       "</style>\n",
       "<table border=\"1\" class=\"dataframe\">\n",
       "  <thead>\n",
       "    <tr style=\"text-align: right;\">\n",
       "      <th></th>\n",
       "      <th>Age</th>\n",
       "      <th>Height</th>\n",
       "      <th>Smoke</th>\n",
       "      <th>Gender</th>\n",
       "    </tr>\n",
       "  </thead>\n",
       "  <tbody>\n",
       "    <tr>\n",
       "      <th>0</th>\n",
       "      <td>6</td>\n",
       "      <td>62.1</td>\n",
       "      <td>0</td>\n",
       "      <td>1</td>\n",
       "    </tr>\n",
       "    <tr>\n",
       "      <th>1</th>\n",
       "      <td>18</td>\n",
       "      <td>74.7</td>\n",
       "      <td>1</td>\n",
       "      <td>0</td>\n",
       "    </tr>\n",
       "    <tr>\n",
       "      <th>2</th>\n",
       "      <td>16</td>\n",
       "      <td>69.7</td>\n",
       "      <td>0</td>\n",
       "      <td>0</td>\n",
       "    </tr>\n",
       "    <tr>\n",
       "      <th>3</th>\n",
       "      <td>14</td>\n",
       "      <td>71.0</td>\n",
       "      <td>0</td>\n",
       "      <td>1</td>\n",
       "    </tr>\n",
       "    <tr>\n",
       "      <th>4</th>\n",
       "      <td>5</td>\n",
       "      <td>56.9</td>\n",
       "      <td>0</td>\n",
       "      <td>1</td>\n",
       "    </tr>\n",
       "  </tbody>\n",
       "</table>\n",
       "</div>"
      ],
      "text/plain": [
       "   Age  Height  Smoke  Gender\n",
       "0    6    62.1      0       1\n",
       "1   18    74.7      1       0\n",
       "2   16    69.7      0       0\n",
       "3   14    71.0      0       1\n",
       "4    5    56.9      0       1"
      ]
     },
     "execution_count": 42,
     "metadata": {},
     "output_type": "execute_result"
    }
   ],
   "source": [
    "lc_x.head()"
   ]
  },
  {
   "cell_type": "code",
   "execution_count": 43,
   "metadata": {},
   "outputs": [
    {
     "data": {
      "text/plain": [
       "0     6.475\n",
       "1    10.125\n",
       "2     9.550\n",
       "3    11.125\n",
       "4     4.800\n",
       "Name: LungCap, dtype: float64"
      ]
     },
     "execution_count": 43,
     "metadata": {},
     "output_type": "execute_result"
    }
   ],
   "source": [
    "lc_y.head()"
   ]
  },
  {
   "cell_type": "code",
   "execution_count": 44,
   "metadata": {},
   "outputs": [],
   "source": [
    "lc_x_train, lc_x_test, lc_y_train, lc_y_test = train_test_split(lc_x, lc_y, test_size = .2)"
   ]
  },
  {
   "cell_type": "code",
   "execution_count": 45,
   "metadata": {},
   "outputs": [
    {
     "data": {
      "text/plain": [
       "LinearRegression(copy_X=True, fit_intercept=True, n_jobs=None, normalize=False)"
      ]
     },
     "execution_count": 45,
     "metadata": {},
     "output_type": "execute_result"
    }
   ],
   "source": [
    "reg.fit(lc_x_train,lc_y_train)"
   ]
  },
  {
   "cell_type": "code",
   "execution_count": 46,
   "metadata": {},
   "outputs": [
    {
     "name": "stdout",
     "output_type": "stream",
     "text": [
      "[ 5.68203396  6.60702538  8.29853226  5.68129845  4.81055814  7.28676621\n",
      " 12.76870828  2.044309   10.36186366  8.19446045  7.85311035  6.99819618\n",
      "  5.0781361   7.51309555  8.49456194  8.91692095 10.57959921 11.76344348\n",
      "  6.44574309  8.74114783  7.54354824 10.08851997  3.81682479  9.91272513\n",
      "  7.36570429  7.62887356  3.09732367  8.11995279 10.67716977  8.93864854\n",
      "  8.29781846 10.6331148  12.18137208  8.80988977 11.52262331 12.09976338\n",
      " 11.22178631  3.13634843  3.4624722   6.95990694  5.74634549  7.05540667\n",
      "  4.85830801  8.18869473  7.89716532  9.53237198  7.20722834  7.47482802\n",
      "  6.08340091  7.26074393 10.03571818  7.863928    8.33978088  6.74584457\n",
      "  5.38769821 11.69396602  7.35624367  6.39503384  7.01208722  4.11411993\n",
      "  8.9732646   9.16350684 11.04098298 10.74666894  6.70459594  7.12118923\n",
      "  8.64357726  8.38176503 10.95997408  8.63115726  6.37700115 11.28106763\n",
      "  7.537047    8.09969624  8.52205525  8.0078914  11.65641229  6.55279599\n",
      "  9.39856128 11.27234252  7.06693812  7.9449369   7.78939862  4.95883795\n",
      " 12.39986486  8.78889769  8.3672742   4.77803462  7.95364029  8.20672742\n",
      "  8.42078979  7.62958736 10.89196765  5.76733756  4.86333822  7.24271124\n",
      "  3.20139548 11.37287247  7.70778992  7.30199256  7.81615641 11.68822201\n",
      "  9.54181088 11.83721562  5.85204136  8.16770266  5.23291715  3.88926162\n",
      "  6.09493235 13.08980183  8.45907904  8.20601362  6.48405405  9.99373404\n",
      " 10.42481815  6.67785986  6.82685347  7.99769526  7.09946164 10.66563832\n",
      "  2.77830095  5.13165169  5.93941579  8.98196799  7.83211827  6.57082868\n",
      "  5.95464213  3.15660499  6.32925128  9.08899918 10.91872545  7.40029864\n",
      "  9.43110652  6.6127911  12.54518529  5.34497855  7.7301173   4.90532236\n",
      " 10.05094452 10.11022584  5.57426726 10.53184934  7.84867993 10.92242035\n",
      " 12.59293516]\n"
     ]
    }
   ],
   "source": [
    "pred_value = reg.predict(lc_x_test)\n",
    "print(pred_value)"
   ]
  },
  {
   "cell_type": "code",
   "execution_count": 47,
   "metadata": {},
   "outputs": [
    {
     "data": {
      "text/plain": [
       "-11.493065006980618"
      ]
     },
     "execution_count": 47,
     "metadata": {},
     "output_type": "execute_result"
    }
   ],
   "source": [
    "reg.intercept_"
   ]
  },
  {
   "cell_type": "code",
   "execution_count": 48,
   "metadata": {},
   "outputs": [
    {
     "data": {
      "text/plain": [
       "array([ 0.15478105,  0.26757796, -0.63063394,  0.34282114])"
      ]
     },
     "execution_count": 48,
     "metadata": {},
     "output_type": "execute_result"
    }
   ],
   "source": [
    "reg.coef_"
   ]
  },
  {
   "cell_type": "code",
   "execution_count": 49,
   "metadata": {},
   "outputs": [
    {
     "data": {
      "text/plain": [
       "0.8586490762483677"
      ]
     },
     "execution_count": 49,
     "metadata": {},
     "output_type": "execute_result"
    }
   ],
   "source": [
    "reg.score(lc_x_train, lc_y_train)"
   ]
  },
  {
   "cell_type": "code",
   "execution_count": 50,
   "metadata": {},
   "outputs": [
    {
     "data": {
      "text/plain": [
       "(580, 4)"
      ]
     },
     "execution_count": 50,
     "metadata": {},
     "output_type": "execute_result"
    }
   ],
   "source": [
    "lc_x_train.shape"
   ]
  },
  {
   "cell_type": "code",
   "execution_count": 51,
   "metadata": {},
   "outputs": [
    {
     "name": "stdout",
     "output_type": "stream",
     "text": [
      "Rsquare value is  0.8586490762483677\n",
      "Adj R square value is  0.8576657654744433\n"
     ]
    }
   ],
   "source": [
    "K = 4\n",
    "N = 580\n",
    "Rsq = reg.score(lc_x_train, lc_y_train)\n",
    "Adr_Rsquare = 1 - (1-Rsq)*(N-1) / (N-K-1)\n",
    "print(\"Rsquare value is \", Rsq)\n",
    "print(\"Adj R square value is \", Adr_Rsquare)"
   ]
  },
  {
   "cell_type": "code",
   "execution_count": 52,
   "metadata": {},
   "outputs": [],
   "source": [
    "error = lc_y_test - pred_value\n",
    "sq_err = error * error"
   ]
  },
  {
   "cell_type": "code",
   "execution_count": 53,
   "metadata": {},
   "outputs": [
    {
     "data": {
      "text/plain": [
       "1.1450676818681071"
      ]
     },
     "execution_count": 53,
     "metadata": {},
     "output_type": "execute_result"
    }
   ],
   "source": [
    "MSE = np.mean(sq_err)\n",
    "MSE"
   ]
  },
  {
   "cell_type": "code",
   "execution_count": 54,
   "metadata": {},
   "outputs": [
    {
     "data": {
      "text/plain": [
       "1.070078353144342"
      ]
     },
     "execution_count": 54,
     "metadata": {},
     "output_type": "execute_result"
    }
   ],
   "source": [
    "RMSE = np.sqrt(MSE)\n",
    "RMSE"
   ]
  },
  {
   "cell_type": "code",
   "execution_count": 55,
   "metadata": {},
   "outputs": [
    {
     "data": {
      "text/plain": [
       "0.8589968258357334"
      ]
     },
     "execution_count": 55,
     "metadata": {},
     "output_type": "execute_result"
    }
   ],
   "source": [
    "abs_err = np.absolute(error)\n",
    "MAE = np.mean(abs_err)\n",
    "MAE"
   ]
  },
  {
   "cell_type": "code",
   "execution_count": 56,
   "metadata": {},
   "outputs": [
    {
     "data": {
      "text/plain": [
       "<matplotlib.lines.Line2D at 0x22ba1488a48>"
      ]
     },
     "execution_count": 56,
     "metadata": {},
     "output_type": "execute_result"
    },
    {
     "data": {
      "image/png": "[encoded data removed]",
      "text/plain": [
       "<Figure size 432x288 with 1 Axes>"
      ]
     },
     "metadata": {
      "needs_background": "light"
     },
     "output_type": "display_data"
    }
   ],
   "source": [
    "# homoscedasticity\n",
    "plt.plot(error_train)\n",
    "plt.axhline(y = 0, linestyle = \"--\", color = \"r\")\n",
    "plt.axhline(y = 3, linestyle = \"--\", color = \"g\")\n",
    "plt.axhline(y = -3, linestyle = \"--\", color = \"y\")"
   ]
  },
  {
   "cell_type": "code",
   "execution_count": 57,
   "metadata": {},
   "outputs": [],
   "source": [
    "pred_actual_df  = pd.DataFrame({\"Predicted\":error_train, \"Actual\":lc_y_train})"
   ]
  },
  {
   "cell_type": "code",
   "execution_count": 58,
   "metadata": {},
   "outputs": [],
   "source": [
    "# pred_actual_df"
   ]
  },
  {
   "cell_type": "code",
   "execution_count": 59,
   "metadata": {},
   "outputs": [
    {
     "data": {
      "text/plain": [
       "<seaborn.axisgrid.JointGrid at 0x22ba14b5888>"
      ]
     },
     "execution_count": 59,
     "metadata": {},
     "output_type": "execute_result"
    },
    {
     "data": {
      "image/png": "[encoded data removed]",
      "text/plain": [
       "<Figure size 432x432 with 3 Axes>"
      ]
     },
     "metadata": {
      "needs_background": "light"
     },
     "output_type": "display_data"
    }
   ],
   "source": [
    "sns.jointplot(x = \"Actual\", y = \"Predicted\", kind = \"reg\", data = pred_actual_df)"
   ]
  },
  {
   "cell_type": "code",
   "execution_count": 60,
   "metadata": {},
   "outputs": [],
   "source": [
    "# you have to build model number of times\n",
    "# you have to create dummy variables after removing the null values\n",
    "# why k = 1.645 SD, because 1.645SD contains 90% of the data and 1SD contain 68% and 1.965SD contain 95% and 2.58SD contain 99% and 3SD contain 99.7% data"
   ]
  }
 ],
 "metadata": {
  "kernelspec": {
   "display_name": "Python 3",
   "language": "python",
   "name": "python3"
  },
  "language_info": {
   "codemirror_mode": {
    "name": "ipython",
    "version": 3
   },
   "file_extension": ".py",
   "mimetype": "text/x-python",
   "name": "python",
   "nbconvert_exporter": "python",
   "pygments_lexer": "ipython3",
   "version": "3.7.6"
  }
 },
 "nbformat": 4,
 "nbformat_minor": 4
}
